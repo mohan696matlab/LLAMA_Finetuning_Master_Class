{
 "cells": [
  {
   "cell_type": "code",
   "execution_count": 1,
   "id": "f3963fec",
   "metadata": {},
   "outputs": [
    {
     "name": "stderr",
     "output_type": "stream",
     "text": [
      "2025-04-25 07:33:13.340424: E external/local_xla/xla/stream_executor/cuda/cuda_fft.cc:477] Unable to register cuFFT factory: Attempting to register factory for plugin cuFFT when one has already been registered\n",
      "WARNING: All log messages before absl::InitializeLog() is called are written to STDERR\n",
      "E0000 00:00:1745566393.349761 1573652 cuda_dnn.cc:8310] Unable to register cuDNN factory: Attempting to register factory for plugin cuDNN when one has already been registered\n",
      "E0000 00:00:1745566393.352604 1573652 cuda_blas.cc:1418] Unable to register cuBLAS factory: Attempting to register factory for plugin cuBLAS when one has already been registered\n",
      "2025-04-25 07:33:13.362996: I tensorflow/core/platform/cpu_feature_guard.cc:210] This TensorFlow binary is optimized to use available CPU instructions in performance-critical operations.\n",
      "To enable the following instructions: AVX2 FMA, in other operations, rebuild TensorFlow with the appropriate compiler flags.\n"
     ]
    },
    {
     "data": {
      "application/vnd.jupyter.widget-view+json": {
       "model_id": "018f593ba4b8478bae4b5713fe3bd143",
       "version_major": 2,
       "version_minor": 0
      },
      "text/plain": [
       "Loading checkpoint shards:   0%|          | 0/3 [00:00<?, ?it/s]"
      ]
     },
     "metadata": {},
     "output_type": "display_data"
    },
    {
     "name": "stdout",
     "output_type": "stream",
     "text": [
      "2095.841064453125\n"
     ]
    }
   ],
   "source": [
    "from transformers import AutoModelForCausalLM, AutoTokenizer, BitsAndBytesConfig, get_scheduler\n",
    "from bitsandbytes.optim import Adam8bit,PagedAdam32bit\n",
    "from peft import LoraConfig, get_peft_model, PeftModel, PeftConfig\n",
    "from peft import prepare_model_for_kbit_training\n",
    "import torch\n",
    "from IPython.display import  clear_output\n",
    "import time\n",
    "import gc,os\n",
    "from torch.utils.data import Dataset, DataLoader\n",
    "\n",
    "device = 'cuda' if torch.cuda.is_available() else 'cpu'\n",
    "\n",
    "DEFAULT_MODEL = '/home/nas/buffer/mohan.dash/llama_3_2_3B'#\"meta-llama/Llama-3.2-3B-Instruct\"\n",
    "TOKENIZER_PATH = \"llama_odia_tokenizer\"\n",
    "\n",
    "bnb_config = BitsAndBytesConfig(\n",
    "        load_in_4bit=True,\n",
    "        bnb_4bit_quant_type='nf4',\n",
    "        bnb_4bit_compute_dtype=torch.bfloat16,\n",
    "        bnb_4bit_use_double_quant=False,\n",
    "    )\n",
    "\n",
    "\n",
    "model = AutoModelForCausalLM.from_pretrained(\n",
    "    DEFAULT_MODEL,\n",
    "    quantization_config=bnb_config,\n",
    "    use_safetensors=True,\n",
    "    device_map=device,\n",
    ")\n",
    "\n",
    "print(model.get_memory_footprint()/(1024*1024)) \n",
    "\n",
    "tokenizer = AutoTokenizer.from_pretrained(TOKENIZER_PATH, use_safetensors=True)\n",
    "tokenizer.pad_token_id = tokenizer.eos_token_id\n",
    "\n",
    "def flush():\n",
    "    torch.cuda.empty_cache()\n",
    "    gc.collect()\n",
    "    torch.cuda.empty_cache()\n",
    "    gc.collect()\n"
   ]
  },
  {
   "cell_type": "code",
   "execution_count": 2,
   "id": "243f1aa8",
   "metadata": {},
   "outputs": [],
   "source": [
    "LORA_ADAPTER_DIR = '/home/nas/buffer/mohan.dash/llama_3_finetuned/adapter'\n",
    "OPTIMIZER_CKPT_DIR = '/home/nas/buffer/mohan.dash/llama_3_finetuned'"
   ]
  },
  {
   "cell_type": "code",
   "execution_count": 5,
   "id": "3d5fc2a9",
   "metadata": {},
   "outputs": [
    {
     "name": "stderr",
     "output_type": "stream",
     "text": [
      "The new embeddings will be initialized from a multivariate normal distribution that has old embeddings' mean and covariance. As described in this article: https://nlp.stanford.edu/~johnhew/vocab-expansion.html. To disable this, use `mean_resizing=False`\n"
     ]
    },
    {
     "name": "stderr",
     "output_type": "stream",
     "text": [
      "/tmp/ipykernel_1573652/1154658402.py:4: FutureWarning: You are using `torch.load` with `weights_only=False` (the current default value), which uses the default pickle module implicitly. It is possible to construct malicious pickle data which will execute arbitrary code during unpickling (See https://github.com/pytorch/pytorch/blob/main/SECURITY.md#untrusted-models for more details). In a future release, the default value for `weights_only` will be flipped to `True`. This limits the functions that could be executed during unpickling. Arbitrary objects will no longer be allowed to be loaded via this mode unless they are explicitly allowlisted by the user via `torch.serialization.add_safe_globals`. We recommend you start setting `weights_only=True` for any use case where you don't have full control of the loaded file. Please open an issue on GitHub for any issues related to this experimental feature.\n",
      "  embedding_state_dict = torch.load(f\"{OPTIMIZER_CKPT_DIR}/embedding_weights.pt\", map_location=device)\n",
      "/tmp/ipykernel_1573652/1154658402.py:5: FutureWarning: You are using `torch.load` with `weights_only=False` (the current default value), which uses the default pickle module implicitly. It is possible to construct malicious pickle data which will execute arbitrary code during unpickling (See https://github.com/pytorch/pytorch/blob/main/SECURITY.md#untrusted-models for more details). In a future release, the default value for `weights_only` will be flipped to `True`. This limits the functions that could be executed during unpickling. Arbitrary objects will no longer be allowed to be loaded via this mode unless they are explicitly allowlisted by the user via `torch.serialization.add_safe_globals`. We recommend you start setting `weights_only=True` for any use case where you don't have full control of the loaded file. Please open an issue on GitHub for any issues related to this experimental feature.\n",
      "  lm_head_state_dict = torch.load(f\"{OPTIMIZER_CKPT_DIR}/lm_head_weights.pt\", map_location=device)\n"
     ]
    },
    {
     "data": {
      "text/plain": [
       "<All keys matched successfully>"
      ]
     },
     "execution_count": 5,
     "metadata": {},
     "output_type": "execute_result"
    }
   ],
   "source": [
    "# Resize the model's token embeddings to match the tokenizer's vocab size\n",
    "model.resize_token_embeddings(len(tokenizer))\n",
    "\n",
    "embedding_state_dict = torch.load(f\"{OPTIMIZER_CKPT_DIR}/embedding_weights.pt\", map_location=device)\n",
    "lm_head_state_dict = torch.load(f\"{OPTIMIZER_CKPT_DIR}/lm_head_weights.pt\", map_location=device)\n",
    "# Load the trained embeddings and LM head\n",
    "model.model.embed_tokens.load_state_dict(embedding_state_dict)\n",
    "model.lm_head.load_state_dict(lm_head_state_dict)"
   ]
  },
  {
   "cell_type": "code",
   "execution_count": 6,
   "id": "f774204e",
   "metadata": {},
   "outputs": [],
   "source": [
    "model = PeftModel.from_pretrained(model, LORA_ADAPTER_DIR, is_trainable=True) # Biggest change in this script"
   ]
  },
  {
   "cell_type": "code",
   "execution_count": 13,
   "id": "05e13535",
   "metadata": {},
   "outputs": [
    {
     "name": "stderr",
     "output_type": "stream",
     "text": [
      "Setting `pad_token_id` to `eos_token_id`:None for open-end generation.\n"
     ]
    },
    {
     "name": "stdout",
     "output_type": "stream",
     "text": [
      "<|begin_of_text|><|begin_of_text|> <|start_header_id|>user<|end_header_id|>\n",
      "\n",
      "ତୁମେ କିଏ?<|eot_id|><|start_header_id|>assistant<|end_header_id|>\n",
      "\n",
      "ନିର୍ଦ୍ଦିଷ୍ଟ ଭାବେ କୃଷି (କୃଷି, ଅନ୍ୟାନ୍ୟ ମହିଳା)।।।।।।।।।।।।।।।।।।।।।।।।।।।।କୁ ଆପଣାଇବାର କ୍ଷମତା ଏବଂ ବିଶାଳ ଖର୍ଚ୍ଚରେ ପରିବର୍ତ୍ତନ ଆଣିବା ପାଇଁ ଗୁରୁତ୍ୱପୂର୍ଣ୍ଣ ସମାନତା ଯୋଗୁଁ ଜଣେ ନିର୍ଭରଶୀଳ ଥିଲା।।।।।।।।।।। ମୁକ୍ତ ରୟାଲ କୋର୍ଟଙ୍କ ଦ୍ୱାରା ଉପଯୁକ୍ତ ହୋଇଥାଏ, ଏବଂ ଏହାକୁ ମହିଳାମାନଙ୍କ ପ୍ରତିରକ୍ଷା ଦଳର ପର୍ଯ୍ୟବେକ୍ଷଣ କରାଯାଇପାରିବ ନାହିଁ।।।।।।।।।।।।।।।।।।।।।।।।। ଇଣ୍ଟରନେଟ୍ ବିରୋଧୀ ଗୋଷ୍ଠୀଙ୍କୁ କେତେକ ଗୁରୁତ୍ୱ ବିରୁଦ୍ଧ ବୋଲି ଦାଖଲ କରୁଛି।।।।।।।।।।।।।।।।।।।।। ନିର୍ଗମନକାରୀଙ୍କୁ \n"
     ]
    }
   ],
   "source": [
    "\n",
    "question='ତୁମେ କିଏ?'\n",
    "chat_template = f'''<|begin_of_text|> <|start_header_id|>user<|end_header_id|>\\n\\n{question}<|eot_id|><|start_header_id|>assistant<|end_header_id|>\\n\\n'''\n",
    "inputs = tokenizer(chat_template , return_tensors=\"pt\").to(device)\n",
    "# print(prompt)\n",
    "\n",
    "model.eval()\n",
    "\n",
    "\n",
    "# with model.disable_adapter():\n",
    "output = model.generate(\n",
    "    **inputs,\n",
    "    do_sample=True,\n",
    "    max_new_tokens=256,\n",
    "    repetition_penalty=1.3,\n",
    "    temperature=0.7,         # Optional: smooth randomness\n",
    "    top_k=50,                # Optional: top-k sampling\n",
    "    top_p=0.9                # Optional: nucleus sampling\n",
    ")\n",
    "processed_text = tokenizer.decode(output[0], skip_special_tokens=False)\n",
    "print(processed_text)"
   ]
  },
  {
   "cell_type": "code",
   "execution_count": null,
   "id": "622f8494",
   "metadata": {},
   "outputs": [],
   "source": []
  },
  {
   "cell_type": "code",
   "execution_count": null,
   "metadata": {},
   "outputs": [],
   "source": []
  }
 ],
 "metadata": {
  "kernelspec": {
   "display_name": "buawei",
   "language": "python",
   "name": "python3"
  },
  "language_info": {
   "codemirror_mode": {
    "name": "ipython",
    "version": 3
   },
   "file_extension": ".py",
   "mimetype": "text/x-python",
   "name": "python",
   "nbconvert_exporter": "python",
   "pygments_lexer": "ipython3",
   "version": "3.10.14"
  }
 },
 "nbformat": 4,
 "nbformat_minor": 5
}
